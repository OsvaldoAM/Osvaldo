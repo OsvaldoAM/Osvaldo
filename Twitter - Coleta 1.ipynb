{
 "cells": [
  {
   "cell_type": "code",
   "execution_count": 52,
   "metadata": {
    "collapsed": true
   },
   "outputs": [],
   "source": [
    "from tweepy import OAuthHandler\n",
    "from tweepy import Stream\n",
    "from tweepy.streaming import StreamListener\n",
    "import time"
   ]
  },
  {
   "cell_type": "code",
   "execution_count": 53,
   "metadata": {
    "collapsed": true
   },
   "outputs": [],
   "source": [
    "# setup security \n",
    "access_token = 'por motivo de segurança tirei os tokens'\n",
    "access_token_secret = 'por motivo de segurança tirei os tokens'\n",
    "consumer_key = 'por motivo de segurança tirei os tokens'\n",
    "consumer_secret = 'por motivo de segurança tirei os tokens'\n",
    "\n",
    "# setup file store\n",
    "file = '/Users/Osvaldo Machado/Desktop/RECUPERAÇÃO DA INFORMAÇÃO/Códigos/tweets-sample.json'"
   ]
  },
  {
   "cell_type": "code",
   "execution_count": 54,
   "metadata": {
    "collapsed": true
   },
   "outputs": [],
   "source": [
    "class MyListener(StreamListener):\n",
    "        \n",
    "    \n",
    "    def __init__(self, file):\n",
    "        global the_file\n",
    "        self.the_file = open(file, 'w')\n",
    "        \n",
    "    def on_data(self, data):\n",
    "        self.the_file.write(data)\n",
    "        return True\n",
    "    \n",
    "    def on_error(self, status):\n",
    "        print(status)\n",
    "        \n",
    "    def file_close(self):\n",
    "        self.the_file.close()        "
   ]
  },
  {
   "cell_type": "code",
   "execution_count": 79,
   "metadata": {},
   "outputs": [
    {
     "name": "stdout",
     "output_type": "stream",
     "text": [
      "**Finish**\n"
     ]
    }
   ],
   "source": [
    "listener = MyListener(file)\n",
    "oauth = OAuthHandler(consumer_key, consumer_secret)\n",
    "oauth.set_access_token(access_token, access_token_secret)\n",
    "\n",
    "max_time = 30 # in seconds\n",
    "start_time = time.time() \n",
    "\n",
    "## collecting...\n",
    "stream = Stream(oauth, listener)\n",
    "#stream.filter(track=['copa', 'neymar', 'messi'],async=True,languages=['pt'])\n",
    "#stream.filter(track=['neymar', 'ronaldo', 'messi', 'sallah', 'hazard'],async=True)\n",
    "#stream.filter(track=['croacia', 'frança', 'inglaterra', 'belgica', 'russia'],async=True)\n",
    "stream.filter(track=['copadomundo', 'worldculp', 'world culp', 'copa do mundo', 'copa2018', 'semifinal'],async=True)\n",
    "\n",
    "elapsed_time = (time.time() - start_time)\n",
    "while  elapsed_time < max_time:\n",
    "    elapsed_time = (time.time() - start_time)\n",
    "\n",
    "    \n",
    "print('**Finish**')\n",
    "stream.disconnect()\n",
    "listener.file_close()"
   ]
  },
  {
   "cell_type": "code",
   "execution_count": 81,
   "metadata": {
    "collapsed": true
   },
   "outputs": [],
   "source": [
    "import json\n",
    "import pandas as pd\n",
    "import matplotlib.pyplot as plt"
   ]
  },
  {
   "cell_type": "code",
   "execution_count": 82,
   "metadata": {},
   "outputs": [],
   "source": [
    "tweets_data = []\n",
    "tweets_file = open(file, \"r\")\n",
    "for line in tweets_file:\n",
    "    try:\n",
    "        tweet = json.loads(line)\n",
    "        tweets_data.append(tweet)\n",
    "    except:\n",
    "        continue\n",
    "        "
   ]
  },
  {
   "cell_type": "code",
   "execution_count": 97,
   "metadata": {},
   "outputs": [
    {
     "name": "stdout",
     "output_type": "stream",
     "text": [
      "   lang                                               text  \\\n",
      "0    en  RT @Sportskeeda: #ThailandOpen2018 🏸\\n\\n🇮🇳 #PV...   \n",
      "1    en  As @RafaelNadal wrapped up the fourth set of h...   \n",
      "2    pt  RT @_Goalpoint: Quem apoias na grande final do...   \n",
      "3    pt  RT @InfosFuteboI: “Gostaria de estar com um de...   \n",
      "4    en  Correction:  We're here watching a semifinal b...   \n",
      "5    pt  @Parmera23 @RmHonorato @tricovo Adidas patroci...   \n",
      "6    in  RT @panditfootball: Selama Piala Dunia 2014, b...   \n",
      "7    pt  RT @detremura: Quem quer uma Copa do Mundo a c...   \n",
      "8    pt             e esse estádio https://t.co/aSRHbcSsb2   \n",
      "9    pt  RT @fifaworldcup_pt: Bélgica e Inglaterra já e...   \n",
      "10   pt  RT @Curiosidades_PL: A Bélgica perdeu apenas d...   \n",
      "11   pt  Thibaut Courtois e Eden Hazard titulares pela ...   \n",
      "12   pt  RT @GarneroBrunno: É de uma irresponsabilidade...   \n",
      "13   es  RT @SC_ESPN: ¡HAY QUINTO SET! Rafa Nadal igual...   \n",
      "14   pt  RT @GoFunSports: Vamos curtir juntos a final d...   \n",
      "15   pt  RT @_Goalpoint: Quem apoias na grande final do...   \n",
      "16   en  RT @markhmasters: 🚨 5TH SET ALERT 🚨\\n\\n🇪🇸 (2) ...   \n",
      "17   pt  RT @_Goalpoint: Quem apoias na grande final do...   \n",
      "18   pt  RT @RazoesAcreditar: Não deu no futebol, mas d...   \n",
      "19   pt  RT @DilaComments: Hoje sou belga, amanhã, sou ...   \n",
      "\n",
      "                              country  \n",
      "0                               India  \n",
      "1   Almost never home in Montreal :-(  \n",
      "2                                None  \n",
      "3              Rio de Janeiro, Brasil  \n",
      "4                            Maryland  \n",
      "5                   São Paulo, Brasil  \n",
      "6                               Jawa?  \n",
      "7                              Brasil  \n",
      "8                              thalya  \n",
      "9                          Via Láctea  \n",
      "10                  Complexo do Rodo   \n",
      "11             Rio de Janeiro, Brasil  \n",
      "12                Jurerê, SC - Brasil  \n",
      "13                            Lambaré  \n",
      "14                             Brasil  \n",
      "15                              Braga  \n",
      "16                   Perth, Australia  \n",
      "17                   Chaves, Portugal  \n",
      "18                          São Paulo  \n",
      "19                               None  \n"
     ]
    }
   ],
   "source": [
    "tweets = pd.DataFrame()\n",
    "\n",
    "tweets['lang'] = ''\n",
    "tweets['text'] = ''\n",
    "tweets['country'] = ''\n",
    "for tweet in tweets_data:\n",
    "    if 'lang' in tweet:\n",
    "        tweets.loc[len(tweets)] = [tweet['lang'],\n",
    "                               tweet['text'],\n",
    "                               tweet['user']['location'] if tweet['user']['location'] != None else None]\n",
    "    \n",
    "print(tweets.head(20))"
   ]
  },
  {
   "cell_type": "code",
   "execution_count": 92,
   "metadata": {},
   "outputs": [
    {
     "data": {
      "text/plain": [
       "<matplotlib.axes._subplots.AxesSubplot at 0x282056d1a20>"
      ]
     },
     "execution_count": 92,
     "metadata": {},
     "output_type": "execute_result"
    },
    {
     "data": {
      "image/png": "[encoded data removed]",
      "text/plain": [
       "<Figure size 432x288 with 1 Axes>"
      ]
     },
     "metadata": {},
     "output_type": "display_data"
    }
   ],
   "source": [
    "tweets_by_lang = tweets['lang'].value_counts()\n",
    "%matplotlib inline\n",
    "\n",
    "fig, ax = plt.subplots()\n",
    "ax.tick_params(axis='x', labelsize=15)\n",
    "ax.tick_params(axis='y', labelsize=10)\n",
    "ax.set_xlabel('Languages', fontsize=15)\n",
    "ax.set_ylabel('Number of tweets' , fontsize=15)\n",
    "ax.set_title('Top 5 languages', fontsize=15, fontweight='bold')\n",
    "tweets_by_lang[:5].plot(ax=ax, kind='bar', color='red')"
   ]
  },
  {
   "cell_type": "code",
   "execution_count": 99,
   "metadata": {},
   "outputs": [
    {
     "data": {
      "text/plain": [
       "<matplotlib.axes._subplots.AxesSubplot at 0x28206c84e80>"
      ]
     },
     "execution_count": 99,
     "metadata": {},
     "output_type": "execute_result"
    },
    {
     "data": {
      "image/png": "[encoded data removed]",
      "text/plain": [
       "<Figure size 432x288 with 1 Axes>"
      ]
     },
     "metadata": {},
     "output_type": "display_data"
    }
   ],
   "source": [
    "tweets_by_country = tweets['country'].value_counts()\n",
    "%matplotlib inline\n",
    "\n",
    "fig, ax = plt.subplots()\n",
    "ax.tick_params(axis='x', labelsize=15)\n",
    "ax.tick_params(axis='y', labelsize=10)\n",
    "ax.set_xlabel('Countries', fontsize=15)\n",
    "ax.set_ylabel('Number of tweets' , fontsize=15)\n",
    "ax.set_title('Top 5 countries', fontsize=15, fontweight='bold')\n",
    "tweets_by_country[:8].plot(ax=ax, kind='bar', color='blue')"
   ]
  },
  {
   "cell_type": "code",
   "execution_count": 100,
   "metadata": {
    "collapsed": true
   },
   "outputs": [],
   "source": [
    "import re\n",
    "def word_in_text(word, text):\n",
    "    word = word.lower()\n",
    "    text = text.lower()\n",
    "    match = re.search(word, text)\n",
    "    if match:\n",
    "        return True\n",
    "    return False"
   ]
  },
  {
   "cell_type": "code",
   "execution_count": 101,
   "metadata": {},
   "outputs": [
    {
     "data": {
      "text/html": [
       "<div>\n",
       "<style scoped>\n",
       "    .dataframe tbody tr th:only-of-type {\n",
       "        vertical-align: middle;\n",
       "    }\n",
       "\n",
       "    .dataframe tbody tr th {\n",
       "        vertical-align: top;\n",
       "    }\n",
       "\n",
       "    .dataframe thead th {\n",
       "        text-align: right;\n",
       "    }\n",
       "</style>\n",
       "<table border=\"1\" class=\"dataframe\">\n",
       "  <thead>\n",
       "    <tr style=\"text-align: right;\">\n",
       "      <th></th>\n",
       "      <th>lang</th>\n",
       "      <th>text</th>\n",
       "      <th>country</th>\n",
       "      <th>player</th>\n",
       "    </tr>\n",
       "  </thead>\n",
       "  <tbody>\n",
       "    <tr>\n",
       "      <th>0</th>\n",
       "      <td>en</td>\n",
       "      <td>RT @Sportskeeda: #ThailandOpen2018 🏸\\n\\n🇮🇳 #PV...</td>\n",
       "      <td>India</td>\n",
       "      <td>semifinal</td>\n",
       "    </tr>\n",
       "    <tr>\n",
       "      <th>1</th>\n",
       "      <td>en</td>\n",
       "      <td>As @RafaelNadal wrapped up the fourth set of h...</td>\n",
       "      <td>Almost never home in Montreal :-(</td>\n",
       "      <td>semifinal</td>\n",
       "    </tr>\n",
       "    <tr>\n",
       "      <th>2</th>\n",
       "      <td>pt</td>\n",
       "      <td>RT @_Goalpoint: Quem apoias na grande final do...</td>\n",
       "      <td>None</td>\n",
       "      <td>copa2018</td>\n",
       "    </tr>\n",
       "    <tr>\n",
       "      <th>3</th>\n",
       "      <td>pt</td>\n",
       "      <td>RT @InfosFuteboI: “Gostaria de estar com um de...</td>\n",
       "      <td>Rio de Janeiro, Brasil</td>\n",
       "      <td>None</td>\n",
       "    </tr>\n",
       "    <tr>\n",
       "      <th>4</th>\n",
       "      <td>en</td>\n",
       "      <td>Correction:  We're here watching a semifinal b...</td>\n",
       "      <td>Maryland</td>\n",
       "      <td>semifinal</td>\n",
       "    </tr>\n",
       "    <tr>\n",
       "      <th>5</th>\n",
       "      <td>pt</td>\n",
       "      <td>@Parmera23 @RmHonorato @tricovo Adidas patroci...</td>\n",
       "      <td>São Paulo, Brasil</td>\n",
       "      <td>copa do mundo</td>\n",
       "    </tr>\n",
       "    <tr>\n",
       "      <th>6</th>\n",
       "      <td>in</td>\n",
       "      <td>RT @panditfootball: Selama Piala Dunia 2014, b...</td>\n",
       "      <td>Jawa?</td>\n",
       "      <td>None</td>\n",
       "    </tr>\n",
       "    <tr>\n",
       "      <th>7</th>\n",
       "      <td>pt</td>\n",
       "      <td>RT @detremura: Quem quer uma Copa do Mundo a c...</td>\n",
       "      <td>Brasil</td>\n",
       "      <td>copa do mundo</td>\n",
       "    </tr>\n",
       "    <tr>\n",
       "      <th>8</th>\n",
       "      <td>pt</td>\n",
       "      <td>e esse estádio https://t.co/aSRHbcSsb2</td>\n",
       "      <td>thalya</td>\n",
       "      <td>None</td>\n",
       "    </tr>\n",
       "    <tr>\n",
       "      <th>9</th>\n",
       "      <td>pt</td>\n",
       "      <td>RT @fifaworldcup_pt: Bélgica e Inglaterra já e...</td>\n",
       "      <td>Via Láctea</td>\n",
       "      <td>None</td>\n",
       "    </tr>\n",
       "    <tr>\n",
       "      <th>10</th>\n",
       "      <td>pt</td>\n",
       "      <td>RT @Curiosidades_PL: A Bélgica perdeu apenas d...</td>\n",
       "      <td>Complexo do Rodo</td>\n",
       "      <td>None</td>\n",
       "    </tr>\n",
       "    <tr>\n",
       "      <th>11</th>\n",
       "      <td>pt</td>\n",
       "      <td>Thibaut Courtois e Eden Hazard titulares pela ...</td>\n",
       "      <td>Rio de Janeiro, Brasil</td>\n",
       "      <td>None</td>\n",
       "    </tr>\n",
       "    <tr>\n",
       "      <th>12</th>\n",
       "      <td>pt</td>\n",
       "      <td>RT @GarneroBrunno: É de uma irresponsabilidade...</td>\n",
       "      <td>Jurerê, SC - Brasil</td>\n",
       "      <td>None</td>\n",
       "    </tr>\n",
       "    <tr>\n",
       "      <th>13</th>\n",
       "      <td>es</td>\n",
       "      <td>RT @SC_ESPN: ¡HAY QUINTO SET! Rafa Nadal igual...</td>\n",
       "      <td>Lambaré</td>\n",
       "      <td>None</td>\n",
       "    </tr>\n",
       "    <tr>\n",
       "      <th>14</th>\n",
       "      <td>pt</td>\n",
       "      <td>RT @GoFunSports: Vamos curtir juntos a final d...</td>\n",
       "      <td>Brasil</td>\n",
       "      <td>copa do mundo</td>\n",
       "    </tr>\n",
       "    <tr>\n",
       "      <th>15</th>\n",
       "      <td>pt</td>\n",
       "      <td>RT @_Goalpoint: Quem apoias na grande final do...</td>\n",
       "      <td>Braga</td>\n",
       "      <td>copa2018</td>\n",
       "    </tr>\n",
       "    <tr>\n",
       "      <th>16</th>\n",
       "      <td>en</td>\n",
       "      <td>RT @markhmasters: 🚨 5TH SET ALERT 🚨\\n\\n🇪🇸 (2) ...</td>\n",
       "      <td>Perth, Australia</td>\n",
       "      <td>semifinal</td>\n",
       "    </tr>\n",
       "    <tr>\n",
       "      <th>17</th>\n",
       "      <td>pt</td>\n",
       "      <td>RT @_Goalpoint: Quem apoias na grande final do...</td>\n",
       "      <td>Chaves, Portugal</td>\n",
       "      <td>copa2018</td>\n",
       "    </tr>\n",
       "    <tr>\n",
       "      <th>18</th>\n",
       "      <td>pt</td>\n",
       "      <td>RT @RazoesAcreditar: Não deu no futebol, mas d...</td>\n",
       "      <td>São Paulo</td>\n",
       "      <td>copa do mundo</td>\n",
       "    </tr>\n",
       "    <tr>\n",
       "      <th>19</th>\n",
       "      <td>pt</td>\n",
       "      <td>RT @DilaComments: Hoje sou belga, amanhã, sou ...</td>\n",
       "      <td>None</td>\n",
       "      <td>None</td>\n",
       "    </tr>\n",
       "  </tbody>\n",
       "</table>\n",
       "</div>"
      ],
      "text/plain": [
       "   lang                                               text  \\\n",
       "0    en  RT @Sportskeeda: #ThailandOpen2018 🏸\\n\\n🇮🇳 #PV...   \n",
       "1    en  As @RafaelNadal wrapped up the fourth set of h...   \n",
       "2    pt  RT @_Goalpoint: Quem apoias na grande final do...   \n",
       "3    pt  RT @InfosFuteboI: “Gostaria de estar com um de...   \n",
       "4    en  Correction:  We're here watching a semifinal b...   \n",
       "5    pt  @Parmera23 @RmHonorato @tricovo Adidas patroci...   \n",
       "6    in  RT @panditfootball: Selama Piala Dunia 2014, b...   \n",
       "7    pt  RT @detremura: Quem quer uma Copa do Mundo a c...   \n",
       "8    pt             e esse estádio https://t.co/aSRHbcSsb2   \n",
       "9    pt  RT @fifaworldcup_pt: Bélgica e Inglaterra já e...   \n",
       "10   pt  RT @Curiosidades_PL: A Bélgica perdeu apenas d...   \n",
       "11   pt  Thibaut Courtois e Eden Hazard titulares pela ...   \n",
       "12   pt  RT @GarneroBrunno: É de uma irresponsabilidade...   \n",
       "13   es  RT @SC_ESPN: ¡HAY QUINTO SET! Rafa Nadal igual...   \n",
       "14   pt  RT @GoFunSports: Vamos curtir juntos a final d...   \n",
       "15   pt  RT @_Goalpoint: Quem apoias na grande final do...   \n",
       "16   en  RT @markhmasters: 🚨 5TH SET ALERT 🚨\\n\\n🇪🇸 (2) ...   \n",
       "17   pt  RT @_Goalpoint: Quem apoias na grande final do...   \n",
       "18   pt  RT @RazoesAcreditar: Não deu no futebol, mas d...   \n",
       "19   pt  RT @DilaComments: Hoje sou belga, amanhã, sou ...   \n",
       "\n",
       "                              country         player  \n",
       "0                               India      semifinal  \n",
       "1   Almost never home in Montreal :-(      semifinal  \n",
       "2                                None       copa2018  \n",
       "3              Rio de Janeiro, Brasil           None  \n",
       "4                            Maryland      semifinal  \n",
       "5                   São Paulo, Brasil  copa do mundo  \n",
       "6                               Jawa?           None  \n",
       "7                              Brasil  copa do mundo  \n",
       "8                              thalya           None  \n",
       "9                          Via Láctea           None  \n",
       "10                  Complexo do Rodo            None  \n",
       "11             Rio de Janeiro, Brasil           None  \n",
       "12                Jurerê, SC - Brasil           None  \n",
       "13                            Lambaré           None  \n",
       "14                             Brasil  copa do mundo  \n",
       "15                              Braga       copa2018  \n",
       "16                   Perth, Australia      semifinal  \n",
       "17                   Chaves, Portugal       copa2018  \n",
       "18                          São Paulo  copa do mundo  \n",
       "19                               None           None  "
      ]
     },
     "execution_count": 101,
     "metadata": {},
     "output_type": "execute_result"
    }
   ],
   "source": [
    "## filtrando aqueles q mais foram falados (termos mais influentes)\n",
    "players = []\n",
    "for tweet in tweets_data:\n",
    "    if 'text' in tweet:\n",
    "        if word_in_text('copadomundo', tweet['text']):\n",
    "            players.append('copadomundo')\n",
    "        elif word_in_text('worldculp ', tweet['text']):\n",
    "            players.append('worldculp ')\n",
    "        elif word_in_text('world culp', tweet['text']):\n",
    "            players.append('world culp')\n",
    "        elif word_in_text('copa do mundo', tweet['text']):\n",
    "            players.append('copa do mundo')\n",
    "        elif word_in_text('copa2018', tweet['text']):\n",
    "            players.append('copa2018')\n",
    "        elif word_in_text('semifinal', tweet['text']):\n",
    "            players.append('semifinal')\n",
    "        else:\n",
    "            players.append('None')\n",
    "tweets['player'] = players\n",
    "tweets.head(20)"
   ]
  },
  {
   "cell_type": "code",
   "execution_count": 102,
   "metadata": {},
   "outputs": [
    {
     "data": {
      "text/plain": [
       "<matplotlib.axes._subplots.AxesSubplot at 0x28205675b00>"
      ]
     },
     "execution_count": 102,
     "metadata": {},
     "output_type": "execute_result"
    },
    {
     "data": {
      "image/png": "[encoded data removed]",
      "text/plain": [
       "<Figure size 432x288 with 1 Axes>"
      ]
     },
     "metadata": {},
     "output_type": "display_data"
    }
   ],
   "source": [
    "tweets_by_player = tweets['player'].value_counts()\n",
    "\n",
    "fig, ax = plt.subplots()\n",
    "ax.tick_params(axis='x', labelsize=15)\n",
    "ax.tick_params(axis='y', labelsize=10)\n",
    "ax.set_xlabel('Players', fontsize=15)\n",
    "ax.set_ylabel('Number of tweets' , fontsize=15)\n",
    "ax.set_title('Top 5 players', fontsize=15, fontweight='bold')\n",
    "tweets_by_player[:6].plot(ax=ax, kind='bar', color='blue')"
   ]
  },
  {
   "cell_type": "code",
   "execution_count": 110,
   "metadata": {},
   "outputs": [
    {
     "name": "stdout",
     "output_type": "stream",
     "text": [
      "   lang                                               text country  \\\n",
      "0    pt  RT @_Goalpoint: Quem apoias na grande final do...    None   \n",
      "1    pt  RT @InfosFuteboI: “Gostaria de estar com um de...    None   \n",
      "2    pt  @Parmera23 @RmHonorato @tricovo Adidas patroci...    None   \n",
      "3    pt  RT @detremura: Quem quer uma Copa do Mundo a c...    None   \n",
      "4    pt             e esse estádio https://t.co/aSRHbcSsb2    None   \n",
      "5    pt  RT @fifaworldcup_pt: Bélgica e Inglaterra já e...    None   \n",
      "6    pt  RT @Curiosidades_PL: A Bélgica perdeu apenas d...    None   \n",
      "7    pt  Thibaut Courtois e Eden Hazard titulares pela ...    None   \n",
      "8    pt  RT @GarneroBrunno: É de uma irresponsabilidade...    None   \n",
      "9    pt  RT @GoFunSports: Vamos curtir juntos a final d...    None   \n",
      "10   pt  RT @_Goalpoint: Quem apoias na grande final do...    None   \n",
      "11   pt  RT @_Goalpoint: Quem apoias na grande final do...    None   \n",
      "12   pt  RT @RazoesAcreditar: Não deu no futebol, mas d...    None   \n",
      "13   pt  RT @DilaComments: Hoje sou belga, amanhã, sou ...    None   \n",
      "14   pt  RT @vxtakaki: eu assistindo o jogo  frança x b...    None   \n",
      "15   pt  RT @Esp_Interativo: De refugiado de guerra à f...    None   \n",
      "16   pt  KKKKKKKKKKKKKKKKKKKK éee os caras tão mt preoc...    None   \n",
      "17   pt  RT @Embaixador_Galo: A Copa do mundo é  nossa!...    None   \n",
      "18   pt  RT @InfosFuteboI: De refugiado da guerra à uma...    None   \n",
      "19   pt  Quem vai levar a melhor nesse duelo de artilhe...    None   \n",
      "20   pt  @fred_kong @mariomarra Acho que os próprios br...    None   \n",
      "21   pt  RT @Esp_Interativo: De refugiado de guerra à f...    None   \n",
      "22   pt  RT @Curiosidades_PL: Inglaterra foi eliminada ...    None   \n",
      "\n",
      "                           place  \n",
      "0                           None  \n",
      "1         Rio de Janeiro, Brasil  \n",
      "2              São Paulo, Brasil  \n",
      "3                         Brasil  \n",
      "4                         thalya  \n",
      "5                     Via Láctea  \n",
      "6              Complexo do Rodo   \n",
      "7         Rio de Janeiro, Brasil  \n",
      "8            Jurerê, SC - Brasil  \n",
      "9                         Brasil  \n",
      "10                         Braga  \n",
      "11              Chaves, Portugal  \n",
      "12                     São Paulo  \n",
      "13                          None  \n",
      "14                     +5511| SP  \n",
      "15                          None  \n",
      "16               Campo Grande ms  \n",
      "17                          None  \n",
      "18                      Perdidão  \n",
      "19                        Brasil  \n",
      "20  Belo Horizonte, Minas Gerais  \n",
      "21                          None  \n",
      "22                         日本 東京  \n"
     ]
    }
   ],
   "source": [
    "## Desafio: filtrando pelas coordenadas geográficas os tweets em português\n",
    "\n",
    "tweets = pd.DataFrame()\n",
    "\n",
    "tweets['lang'] = ''\n",
    "tweets['text'] = ''\n",
    "tweets['country'] = ''\n",
    "tweets['place'] = ''\n",
    "for tweet in tweets_data:\n",
    "    if tweet['lang'] == 'pt':\n",
    "        tweets.loc[len(tweets)] = [tweet['lang'],\n",
    "                               tweet['text'],\n",
    "                               tweet['place']['country'] if tweet['place'] != None else None,\n",
    "                               tweet['user']['location']]\n",
    "    \n",
    "print(tweets.head(249))\n"
   ]
  },
  {
   "cell_type": "code",
   "execution_count": null,
   "metadata": {
    "collapsed": true
   },
   "outputs": [],
   "source": [
    "#Qual campo do JSON de um tweet corresponde cada descrição?\n",
    "\n",
    "#Número de retweets de um tweet = reply_count\n",
    "#Possivelmente sensitivo = possibly_sensitive\n",
    "#As hashtags de um tweet = entities\n",
    "#Número de seguidores de um usuário = user\n",
    "#Quantas vezes o tweet foi retweetado com comentários = retweeted_status"
   ]
  }
 ],
 "metadata": {
  "kernelspec": {
   "display_name": "Python 3",
   "language": "python",
   "name": "python3"
  },
  "language_info": {
   "codemirror_mode": {
    "name": "ipython",
    "version": 3
   },
   "file_extension": ".py",
   "mimetype": "text/x-python",
   "name": "python",
   "nbconvert_exporter": "python",
   "pygments_lexer": "ipython3",
   "version": "3.6.5"
  }
 },
 "nbformat": 4,
 "nbformat_minor": 2
}
